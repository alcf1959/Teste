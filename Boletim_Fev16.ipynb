{
 "cells": [
  {
   "cell_type": "markdown",
   "metadata": {
    "slideshow": {
     "slide_type": "slide"
    }
   },
   "source": [
    "# <center>Boletim do Observatório do Trabalho - Campinas/SP<center>"
   ]
  },
  {
   "cell_type": "markdown",
   "metadata": {
    "slideshow": {
     "slide_type": "fragment"
    }
   },
   "source": [
    "### <center>Nº 01/16 - Fev/2016 <center>"
   ]
  },
  {
   "cell_type": "markdown",
   "metadata": {
    "slideshow": {
     "slide_type": "fragment"
    }
   },
   "source": [
    "## <center>Secretaria do Trabalho e Renda/Prefeitura Municipal de Campinas <center>"
   ]
  },
  {
   "cell_type": "markdown",
   "metadata": {
    "slideshow": {
     "slide_type": "slide"
    }
   },
   "source": [
    "### Apresentação"
   ]
  },
  {
   "cell_type": "markdown",
   "metadata": {
    "slideshow": {
     "slide_type": "fragment"
    }
   },
   "source": [
    "O Observatório do Trabalho de Campinas(SP) é vinculado à Secretaria Municipal de Trabalho e Renda e sua estruturação encontra-se prevista no Convênio firmado entre a Prefeitura de Campinas e o Ministério do Trabalho e Previdência Social (MTPS), através do qual o nosso município passou a participar do Sistema Nacional de Emprego (SINE). O Convênio SINE tem como objeto propiciar a participação ativa do município no apoio às políticas de emprego, estabelecendo-se uma agência pública de intermediação de mão de obra (o Centro Público de Apoio ao Trabalhador - CPAT) que, além de cadastrar trabalhadores a procura de vagas, capta a oferta de novas vagas junto às empresas e instituições, assim como apoia o empreendedorismo pelo incentivo aos microempreendedores individuais (MEI) através da Casa do Empreendedor e demais iniciativas de geração de trabalho e renda através da Economia Solidária.\n",
    "\n",
    "Como complemento necessário a este conjunto de atividades, busca-se estimular os processos de qualificação e formação profissional que passam tanto pelas atividades de orientação (currículo, entrevista entre outras), quanto pela oferta de cursos específicos, sejam de formação básica em português e matemática, quanto diversos cursos de especialização ofertados através do PRONATEC - Programa Nacional de Acesso ao Ensino Técnico e Emprego, viabilizado pelas parcerias com o Sistema S (Senai, Senac, Sest/Senat) entre outras.\n",
    "\n",
    "Neste contexto, o papel do Observatório do Trabalho é consolidar e analisar os dados do mercado de trabalho de Campinas e os seus condicionantes, vis a vis a Região Metropolitana, o Estado de São Paulo e o conjunto do país, de forma a acompanhar as mudanças e prever tendências para subsidiar a construção de políticas públicas de emprego mais efetivas."
   ]
  },
  {
   "cell_type": "markdown",
   "metadata": {
    "slideshow": {
     "slide_type": "slide"
    }
   },
   "source": [
    "### A Situação Atual do Mercado de Trabalho em Campinas - Breve Avaliação"
   ]
  },
  {
   "cell_type": "markdown",
   "metadata": {
    "slideshow": {
     "slide_type": "fragment"
    }
   },
   "source": [
    "Com base nos dados públicos de emprego e desemprego do CAGED – Cadastro Geral de Emprego e Desemprego do Ministério do Trabalho, observa-se entre 2011 e 2014, para a região de Campinas, a manutenção dos saldos positivos na relação 'Admitidos – Desligados', embora suavemente decrescentes em termos de linha de tendência, com exceção dos meses de junho e dezembro, principalmente este último, onde há uma redução significativa dos saldos. Este movimento decorre da redução na oferta de vagas novas, em tempo de fechamento do balancete/balanço semestral/anual para reavaliação da necessidade/possibilidade de expansão do número de trabalhadores.\n",
    "\n",
    "Os 3 primeiros meses de 2015, considerando a Região Metropolitana de Campinas como um todo, também apresentam saldos positivos, em linha de continuidade com a tendência verificada entre 2011 e 2014. Entretanto, o mês de abril/15 marca um ponto de inflexão importante, a partir do qual os saldos se tornam persistentemente negativos."
   ]
  },
  {
   "cell_type": "markdown",
   "metadata": {
    "collapsed": true,
    "raw_mimetype": "text/markdown",
    "slideshow": {
     "slide_type": "slide"
    }
   },
   "source": [
    "_**Saldo (Admitidos - Desligados) Acumulado Mensal/Total - 2011 a 2014**_"
   ]
  },
  {
   "cell_type": "markdown",
   "metadata": {
    "slideshow": {
     "slide_type": "fragment"
    }
   },
   "source": [
    "<SPAN STYLE=\"font-size:10pt\">\n",
    "\n",
    "| Município                 | jan   | fev   | mar   | abr   | mai  | jun   | jul  | ago   | set   | out   | nov  | dez    | Total RMC | %       |\n",
    "|---------------------------|------:|------:|------:|------:|-----:|------:|-----:|------:|------:|------:|-----:|-------:|----------:|--------:|\n",
    "| Sp-Americana              | 819   | 1122  | 936   | 1128  | 80   | -834  | 586  | 1042  | 739   | 216   | 499  | -5543  | 790       | 1,47%   |\n",
    "| Sp-Artur Nogueira         | -37   | 131   | -50   | 92    | -183 | 25    | 29   | -87   | 105   | 46    | 109  | -393   | -213      | -0,40%  |\n",
    "| Sp-Campinas               | 3937  | 10581 | 3681  | 4959  | 2866 | -65   | 3148 | 5798  | 2808  | 3448  | 1795 | -16270 | 26686     | 49,63%  |\n",
    "| Sp-Cosmopolis             | -47   | 777   | 308   | 1111  | 90   | -37   | -142 | 140   | 55    | 100   | -625 | -1838  | -108      | -0,20%  |\n",
    "| Sp-Engenheiro Coelho      | -104  | -25   | 100   | 85    | 66   | 350   | 309  | 193   | 16    | 22    | -180 | -734   | 98        | 0,18%   |\n",
    "| Sp-Holambra               | 118   | 38    | 27    | 84    | -185 | -17   | -14  | 171   | 210   | -52   | 87   | -318   | 149       | 0,28%   |\n",
    "| Sp-Hortolandia            | 851   | 473   | 763   | 674   | 363  | -204  | 735  | 1088  | -64   | 146   | 462  | -1102  | 4185      | 7,78%   |\n",
    "| Sp-Indaiatuba             | 1938  | 1143  | 1698  | 906   | 401  | -16   | 954  | 894   | 407   | -49   | 26   | -4643  | 3659      | 6,81%   |\n",
    "| Sp-Itatiba                | 1138  | 1364  | 755   | 1231  | 629  | -531  | -673 | 270   | 103   | 18    | 103  | -2778  | 1629      | 3,03%   |\n",
    "| Sp-Jaguariuna             | -99   | 983   | -63   | -1099 | 929  | 1108  | 606  | 75    | 212   | 137   | 529  | -1377  | 1941      | 3,61%   |\n",
    "| Sp-Monte Mor              | 695   | 567   | 399   | 178   | 134  | 47    | -178 | 136   | 473   | 153   | -414 | -700   | 1490      | 2,77%   |\n",
    "| Sp-Nova Odessa            | 1005  | 971   | 254   | 369   | -87  | 9     | -129 | -167  | -205  | -42   | -156 | -1334  | 488       | 0,91%   |\n",
    "| Sp-Paulinia               | 64    | 2119  | 1212  | 751   | 768  | -959  | 59   | -205  | -1009 | -1200 | -318 | -1129  | 153       | 0,28%   |\n",
    "| Sp-Pedreira               | 54    | 125   | 18    | 111   | 108  | -253  | -148 | 223   | 468   | 328   | -100 | -670   | 264       | 0,49%   |\n",
    "| Sp-Santa Barbara D Oeste  | 1657  | 1151  | 241   | 1703  | 1401 | 408   | 7    | 436   | 406   | 1019  | -650 | -5057  | 2722      | 5,06%   |\n",
    "| Sp-Santo Antonio de Posse | -21   | 122   | 85    | 391   | 99   | 153   | -44  | 154   | 1     | 238   | 111  | -333   | 956       | 1,78%   |\n",
    "| Sp-Sumare                 | 1562  | 1605  | 90    | 550   | -483 | -296  | 528  | 463   | 477   | 467   | 96   | -2495  | 2564      | 4,77%   |\n",
    "| Sp-Valinhos               | 974   | 633   | 77    | 597   | 144  | -281  | 315  | -122  | -3    | 56    | -288 | -1548  | 554       | 1,03%   |\n",
    "| Sp-Vinhedo                | 1082  | 1224  | 888   | 890   | 490  | 61    | -88  | -344  | 1465  | 1128  | 181  | -1215  | 5762      | 10,72%  |\n",
    "| Total Resultado           | 15586 | 25104 | 11419 | 14711 | 7630 | -1332 | 5860 | 10158 | 6664  | 6179  | 1267 | -49477 | 53769     | 100,00% |"
   ]
  },
  {
   "cell_type": "markdown",
   "metadata": {
    "slideshow": {
     "slide_type": "slide"
    }
   },
   "source": [
    "_**Saldo (Admitidos - Desligados) - Jan a Dez/15**_"
   ]
  },
  {
   "cell_type": "markdown",
   "metadata": {
    "slideshow": {
     "slide_type": "fragment"
    }
   },
   "source": [
    "<SPAN STYLE=\"font-size: 10pt\">\n",
    "\n",
    "| Municipio              | jan/15 | fev/15 | mar/15 | abr/15 | mai/15 | jun/15 | jul/15 | ago/15 | set/15 | out/15 | nov/15 | dez/15  | Total RMC | %       |\n",
    "|------------------------|-------:|-------:|-------:|-------:|-------:|-------:|-------:|-------:|-------:|-------:|-------:|--------:|----------:|--------:|\n",
    "| Americana              | -139   | 264    | 25     | -168   | -46    | -792   | -649   | -324   | -511   | -427   | -447   | -1.620  | -4.834    | 12,40%  |\n",
    "| Artur Nogueira         | 32     | 28     | -10    | -35    | -81    | -38    | -68    | -110   | -49    | -13    | -24    | -142    | -510      | 1,31%   |\n",
    "| Campinas               | -822   | 127    | 1.079  | -1.056 | -1.677 | -2.564 | -1.725 | -98    | -1.410 | -2.387 | -305   | -5.443  | -16.281   | 41,76%  |\n",
    "| Cosmópolis             | -31    | 5      | 68     | 6      | 53     | -22    | -54    | -68    | -18    | -5     | 48     | -217    | -235      | 0,60%   |\n",
    "| Engenheiro Coelho      | 1      | 62     | 34     | -34    | 2      | -42    | 27     | 126    | -1     | -54    | 7      | -66     | 62        | -0,16%  |\n",
    "| Holambra               | 48     | 55     | 118    | -16    | -74    | 32     | -38    | -33    | 74     | -27    | 54     | -184    | 9         | -0,02%  |\n",
    "| Hortolândia            | 214    | 76     | -7     | -91    | 25     | -205   | -119   | -174   | -129   | -296   | -192   | -565    | -1.463    | 3,75%   |\n",
    "| Indaiatuba             | 617    | 36     | 108    | -134   | -31    | -560   | 160    | 156    | -557   | -387   | -46    | -1.429  | -2.067    | 5,30%   |\n",
    "| Itatiba                | 152    | 269    | 282    | -141   | -146   | -147   | -187   | 134    | -247   | -302   | -335   | -1.341  | -2.009    | 5,15%   |\n",
    "| Jaguariúna             | 58     | 156    | 345    | -78    | 63     | 105    | -14    | -172   | -11    | 120    | 98     | -386    | 284       | -0,73%  |\n",
    "| Monte Mor              | 67     | 49     | -45    | -15    | -137   | -179   | 23     | 15     | -19    | -125   | -51    | -209    | -626      | 1,61%   |\n",
    "| Nova Odessa            | 69     | -4     | 7      | -185   | -68    | -15    | -282   | -139   | -97    | -149   | -96    | -445    | -1.404    | 3,60%   |\n",
    "| Paulínia               | -164   | 257    | 372    | -102   | -117   | -213   | 147    | -2     | -191   | -14    | -25    | -496    | -548      | 1,41%   |\n",
    "| Pedreira               | 112    | 26     | -52    | -10    | -35    | -47    | -104   | -22    | -10    | -35    | -58    | -233    | -468      | 1,20%   |\n",
    "| Santa Bárbara D'Oeste  | 111    | 276    | 17     | 58     | 441    | -65    | -99    | -345   | -197   | -390   | -383   | -1.561  | -2.137    | 5,48%   |\n",
    "| Santo Antônio de Posse | -51    | -80    | -28    | -85    | -17    | -43    | 82     | 31     | -168   | -2     | 47     | -92     | -406      | 1,04%   |\n",
    "| Sumaré                 | 273    | 266    | 17     | -166   | -311   | -286   | -250   | 117    | -313   | -242   | -427   | -1.004  | -2.326    | 5,97%   |\n",
    "| Valinhos               | 137    | 58     | 19     | -411   | -7     | -301   | -4     | -103   | -302   | -345   | 859    | -920    | -1.320    | 3,39%   |\n",
    "| Vinhedo                | 6      | 67     | 85     | -211   | -64    | -1.431 | 295    | -79    | -54    | -335   | -220   | -765    | -2.706    | 6,94%   |\n",
    "| Total Resultado        | 690    | 1.993  | 2.434  | -2.874 | -2.227 | -6.813 | -2.859 | -1.090 | -4.210 | -5.415 | -1.496 | -17.118 | -38.985   | 100,00% |"
   ]
  },
  {
   "cell_type": "markdown",
   "metadata": {
    "slideshow": {
     "slide_type": "slide"
    }
   },
   "source": [
    "O que chama a atenção neste movimento é que, tanto a redução dos saldos positivos entre 2011 e março/2015, quanto a persistência dos saldos negativos a partir daí, decorrem não necessariamente do aumento das demissões, em particular, das demissões sem justa causa, o que seria também de se esperar em um contexto de crise econômica, mas fundamentalmente da redução na oferta de novas vagas.\n",
    "\n",
    "O volume de demissões sem justa causa permanece relativamente estável, em uma curva suavemente ascendente. O que cai de forma mais acentuada são tanto as admissões por reemprego, quanto as admissões de primeiro emprego. As demissões a pedido também caem, acompanhando a curva descendente de admissões por reemprego. Em geral, as demissões a pedido ocorrem quando se tem em perspectiva uma recolocação por salário melhor."
   ]
  },
  {
   "cell_type": "markdown",
   "metadata": {
    "slideshow": {
     "slide_type": "slide"
    }
   },
   "source": [
    "<img src="Teste/Grafico1_TipoAdmissaoDesligamento_Cps_2011-2015.jpg"/>"
   ]
  },
  {
   "cell_type": "markdown",
   "metadata": {
    "slideshow": {
     "slide_type": "skip"
    }
   },
   "source": [
    "_Campinas (2011 - 2014) - Variação mês a mês e linha de tendência_"
   ]
  },
  {
   "cell_type": "markdown",
   "metadata": {
    "slideshow": {
     "slide_type": "slide"
    }
   },
   "source": [
    "Este ponto de inflexão para baixo ocorrido neste ano de 2015 se evidencia quando comparamos o saldo acumulado entre 2011 e 2014, que apresenta um saldo positivo de 26.686 postos de trabalho em Campinas, enquanto em 2015 apenas, temos um saldo negativo acumulado de -16.281 postos de trabalho, ou seja, perdeu-se em 2015, cerca de 61% de todo o saldo positivo acumulado nos 4 anos anteriores, entre 2011 e 2014. Na Região Metropolitana de Campinas como um todo, acumulou-se em 2015 um saldo negativo de -38.985 postos de trabalho, o que representou uma perda de cerca de 72,5% do saldo positivo acumulado entre 2011 e 2014.  Entre o ano de 2015 e a média anual entre 2011 e 2014, constata-se uma variação no saldo de -344,04% para Campinas e -390,02% para a Região Metropolitana de Campinas como um todo."
   ]
  },
  {
   "cell_type": "markdown",
   "metadata": {
    "slideshow": {
     "slide_type": "slide"
    }
   },
   "source": [
    "| Periodo   | Município/Região                 | Admitidos | Desligados | Movimentação | Saldo    |\n",
    "|:----------|:---------------------------------|----------:|-----------:|-------------:|---------:|\n",
    "|           |                                  |           |            |              |          |\n",
    "| 2011/2014 | Sp-Campinas                      | 860.753   | 834.067    | 1.694.820    | 26.686   |\n",
    "| 2011/2014 | Média Anual                      | 215.188   | 208.517    | 423.705      | 6.672    |\n",
    "|           |                                  |           |            |              |          |\n",
    "| 2011/2014 | Total RMC                        | 1.984.912 | 1.931.143  | 3.916.055    | 53.769   |\n",
    "| 2011/2014 | Média Anual                      | 496.228   | 482.786    | 979.014      | 13.442   |\n",
    "|           |                                  |           |            |              |          |\n",
    "| 2015      | Sp-Campinas                      | 171.385   | 187.666    | 359.051      | -16.281  |\n",
    "|           | Dif. 2015 x Média 2011/14 (Qtde) | -43.803   | -20.851    | -64.654      | -22.953  |\n",
    "|           | Dif. 2015 x Média 2011/14 (%)    | -20,36%   | -10,00%    | -15,26%      | -344,04% |\n",
    "|           |                                  |           |            |              |          |\n",
    "| 2015      | Total RMC                        | 397.403   | 436.388    | 833.791      | -38.985  |\n",
    "|           | Dif. 2015 x Média 2011/14 (Qtde) | -98.825   | -46.398    | -145.223     | -52.427  |\n",
    "|           | Dif. 2015 x Média 2011/14 (%)    | -19,92%   | -9,61%     | -14,83%      | -390,02% |\n"
   ]
  },
  {
   "cell_type": "markdown",
   "metadata": {
    "slideshow": {
     "slide_type": "slide"
    }
   },
   "source": [
    "Comparando-se os salários de ingresso e os salários de desligamento espera-se que, em geral estes últimos sejam relativamente maiores, a menos que o volume de novos ingressos no mercado de trabalho compense esta discrepância. Portanto, em que pese o saldo positivo na relação entre o número de trabalhadores admitidos e os desligados, verificado entre 2011 e 2014, o saldo em termos de número de salários mínimos ficou negativo em -70.287,49 SM para Campinas e em -223.155,57 SM para o conjunto da RMC. Em 2015, este saldo ficou negativo em -75.686,98 SM para Campinas, o que representa 107,7% do saldo acumulado verificado entre 2011 e 2014, e em -185.717,53 para a RMC como um todo, o que representa 83,2% do saldo acumulado entre 2011-2014. Devemos observar que a perda em termos de ingresso de renda no mercado de trabalho impactou o município de Campinas de forma mais significativa do que o conjunto da RMC.\n",
    "\n",
    "Ou seja, enquanto a perda de postos de trabalho ao longo de 2015 representou cerca de **61%** do saldo positivo entre 2011 e 2014, o saldo em termos de nº de salários mínimos acumulou uma perda de **107,7%**, comparando-se 2015 com o saldo acumulado entre 2011 e 2014. Para a RMC como um todo perdeu-se em 2015 **73%** do saldo de postos de trabalho acumulado entre 2011 e 2014 (perda maior do que Campinas), mas a redução de ingressos de renda em número de salários mínimos ficou em **83,2%** entre 2015 e o acumulado de 2011 a 2014 (perda menor do que Campinas)."
   ]
  },
  {
   "cell_type": "markdown",
   "metadata": {
    "slideshow": {
     "slide_type": "slide"
    }
   },
   "source": [
    "_**Saldos Acumulados Mês a Mês - Número de Salários Mínimos - 2011/2014 - RMC**_"
   ]
  },
  {
   "cell_type": "markdown",
   "metadata": {
    "slideshow": {
     "slide_type": "fragment"
    }
   },
   "source": [
    "<SPAN STYLE=\"font-size: 8pt\">\n",
    "\n",
    "| Município              | Jan/11-14 | Fev/11-14 | Mar/11-14 | Abr/11-14 | Mai/11-14 | Jun/11-14 | Jul/11-14 | Ago/11-14 | Set/11-14 | Out/11-14 | Nov/11-14 | Dez/11-14  | Total RMC  | %       |\n",
    "|------------------------|----------:|----------:|----------:|----------:|----------:|----------:|----------:|----------:|----------:|----------:|----------:|-----------:|-----------:|--------:|\n",
    "| Americana              | 93,61     | -371,6    | -474,92   | 479,74    | -1221,51  | -3137,66  | -510,19   | -418,37   | -468,69   | -2503,63  | -1241,77  | -12652,41  | -22427,4   | 10,05%  |\n",
    "| Artur Nogueira         | -193,39   | 77,96     | -272,84   | 164,12    | -413,05   | -75,32    | -127,69   | -359,88   | 111,22    | 104,08    | 144,88    | -739,31    | -1579,22   | 0,71%   |\n",
    "| Campinas               | 7297,9    | 8505,71   | -3134,85  | 842,62    | -5029,94  | -10253,91 | -2723,92  | 2478,21   | -852,52   | -3326,14  | -11642,93 | -52447,72  | -70287,49  | 31,50%  |\n",
    "| Cosmopolis             | -183,08   | 1550,6    | 532,29    | 1435,29   | -26,37    | -101,05   | -530,56   | 58,46     | 84,99     | 141,94    | -1185,33  | -3442,95   | -1665,77   | 0,75%   |\n",
    "| Engenheiro Coelho      | -170,23   | 25,33     | 141,12    | 67,5      | 70,02     | 261,44    | 168,72    | 272,53    | -57,49    | -1,11     | -307,51   | -1078,51   | -608,19    | 0,27%   |\n",
    "| Holambra               | 148,32    | -32,5     | 65,16     | 89,12     | -469,43   | -196,12   | -177,6    | 253,36    | 217,08    | -106,54   | 45,67     | -584,01    | -747,49    | 0,33%   |\n",
    "| Hortolandia            | 1940,89   | -2390,56  | 207,85    | 273,13    | -364,43   | -2920,81  | 285,42    | 611,02    | -1408,26  | -1270,23  | -654,17   | -4713,06   | -10403,21  | 4,66%   |\n",
    "| Indaiatuba             | 3066,66   | 832,21    | 1788,96   | -156      | -1229,85  | -848,41   | 720,41    | -24,55    | -1112,26  | -1559,92  | -2151,29  | -11062,27  | -11736,31  | 5,26%   |\n",
    "| Itatiba                | 1994,53   | 2259,84   | 1565,78   | 1583,2    | 305,32    | -1307,16  | -2212,72  | -21,4     | -491,51   | -604,77   | -395,67   | -7597,2    | -4921,76   | 2,21%   |\n",
    "| Jaguariuna             | -1796,54  | 1330,21   | -860,08   | -7063,13  | 571,28    | 1641,31   | -285,05   | -3550,38  | -271,14   | -806,92   | 398,45    | -4757,61   | -15449,6   | 6,92%   |\n",
    "| Monte Mor              | 902,62    | 562,46    | 219,53    | -165,89   | -39,72    | -147,51   | -636,63   | 159,7     | 887,45    | 42,01     | -735,14   | -1679,06   | -630,18    | 0,28%   |\n",
    "| Nova Odessa            | 1119,6    | 1153,87   | -513,12   | 94,04     | -841,33   | -891,22   | -1122,88  | -1088,39  | -941,94   | -645,24   | -933,31   | -3314,03   | -7923,95   | 3,55%   |\n",
    "| Paulinia               | 1162,64   | 3365,61   | 2352,8    | -529,21   | 772,87    | -5734,22  | -4159,81  | -2896,49  | -5398,7   | -4928,87  | -4268,44  | -5068      | -25329,82  | 11,35%  |\n",
    "| Pedreira               | -124,57   | -151,32   | -212,15   | -19,03    | -82,09    | -580,3    | -423,27   | 50,98     | 572,75    | 465,43    | -313,61   | -1220,23   | -2037,41   | 0,91%   |\n",
    "| Santa Barbara D Oeste  | 2376,33   | 1423,48   | -318,7    | 1232,09   | 1896,38   | -145,6    | -1145,66  | -258,36   | 761,2     | 1126,16   | -1559,45  | -9081      | -3693,13   | 1,65%   |\n",
    "| Santo Antonio de Posse | -123,58   | -181,5    | 150,98    | 337,47    | -166,75   | 145,38    | -364,59   | 82,76     | -170,31   | 408,84    | -39,98    | -675,46    | -596,74    | 0,27%   |\n",
    "| Sumare                 | 1460,22   | 1424,19   | -2497,47  | -1243,08  | -4127,82  | -1527,31  | -122,49   | -2377,07  | -1532,16  | -1040,91  | -2306,65  | -6314,17   | -20204,72  | 9,05%   |\n",
    "| Valinhos               | 952,47    | 123,23    | -934,28   | -109,15   | -932,69   | -1269,92  | -844,31   | -2307,77  | -1563,65  | -1351,35  | -1919,71  | -5126      | -15283,13  | 6,85%   |\n",
    "| Vinhedo                | 1223,79   | 1353,88   | -56,07    | 0,69      | -150,22   | -1476,23  | -1467,15  | -2675,6   | 1149,83   | 632,83    | -590,95   | -5574,85   | -7630,05   | 3,42%   |\n",
    "| Total Resultado        | 21148,19  | 20861,1   | -2250,01  | -2686,48  | -11479,33 | -28564,62 | -15679,97 | -12011,24 | -10484,11 | -15224,34 | -29656,91 | -137127,85 | -223155,57 | 100,00% |\n"
   ]
  },
  {
   "cell_type": "markdown",
   "metadata": {
    "slideshow": {
     "slide_type": "slide"
    }
   },
   "source": [
    "\n",
    "_**Saldos Acumulados Mês a Mês - Número de Salários Mínimos - 2015 - RMC**_"
   ]
  },
  {
   "cell_type": "markdown",
   "metadata": {
    "slideshow": {
     "slide_type": "fragment"
    }
   },
   "source": [
    "<SPAN STYLE=\"font-size: 8pt\">\n",
    "\n",
    "| Município              | jan/15   | fev/15   | mar/15   | abr/15    | mai/15    | jun/15    | jul/15    | ago/15    | set/15    | out/15    | nov/15    | dez/15    | Total RMC  | %       |\n",
    "|------------------------|---------:|---------:|---------:|----------:|----------:|----------:|----------:|----------:|----------:|----------:|----------:|----------:|-----------:|--------:|\n",
    "| Americana              | -90,04   | -449,58  | -465     | -698,8    | -560,32   | -1724,14  | -1534,92  | -1068,8   | -1465,22  | -1291,16  | -1709,47  | -3692,16  | -14749,61  | 7,94%   |\n",
    "| Artur Nogueira         | 45,13    | -11,05   | -94,73   | -71,1     | -161,73   | -161,06   | -103,66   | -294,81   | -115,82   | -37,24    | -43,5     | -223,59   | -1273,16   | 0,69%   |\n",
    "| Campinas               | -3180,5  | -3234,17 | -1657,13 | -6449,73  | -6328,9   | -8447,92  | -7023,87  | -3579,38  | -6065,68  | -8842,07  | -4585,04  | -16292,59 | -75686,98  | 40,75%  |\n",
    "| Cosmopolis             | -114,32  | 3,44     | 155,4    | -75,77    | 39,12     | -60,95    | -207,7    | -239,45   | -58,36    | -44,54    | 95,55     | -493,39   | -1000,97   | 0,54%   |\n",
    "| Engenheiro Coelho      | 17,21    | 93,23    | 33,07    | -61,69    | -49,68    | -110,12   | -17,08    | 121,93    | -0,84     | -138,12   | -11,29    | -75,77    | -199,15    | 0,11%   |\n",
    "| Holambra               | 50,5     | 59,64    | 140,63   | -22,12    | -111,25   | 45,99     | -112,45   | -59,13    | 126,26    | -94,03    | 59,11     | -367,06   | -283,91    | 0,15%   |\n",
    "| Hortolandia            | 235,11   | -340,13  | -511,64  | -656,76   | -887,09   | -862,46   | -616,49   | -1027,54  | -642,54   | -1039,28  | -2172,83  | -1576,73  | -10098,38  | 5,44%   |\n",
    "| Indaiatuba             | 696,57   | -647,88  | -748,15  | -1202,03  | -1013,29  | -2071,38  | -399,68   | -640,01   | -1510,86  | -1365,37  | -1143,71  | -3818,93  | -13864,72  | 7,47%   |\n",
    "| Itatiba                | 188,03   | 456,02   | 220,47   | -407,85   | -598,13   | -740,75   | -578      | -187,32   | -802,92   | -1037,26  | -1073,61  | -3546,77  | -8108,09   | 4,37%   |\n",
    "| Jaguariuna             | -193,16  | -71,01   | 404,27   | -181,99   | -5,43     | 238,27    | -379      | -784,06   | 28,02     | 394,66    | 692,12    | -688,69   | -546       | 0,29%   |\n",
    "| Monte Mor              | 15,97    | -30,98   | -436,95  | -185,42   | -318,77   | -397,31   | -72,62    | -114,67   | -116,39   | -371,72   | -270,22   | -623,44   | -2922,52   | 1,57%   |\n",
    "| Nova Odessa            | 139,61   | -119,49  | -119,49  | -730,59   | -325,38   | -129,03   | -553,48   | -341,87   | -338,36   | -406,38   | -174      | -920,94   | -4019,4    | 2,16%   |\n",
    "| Paulinia               | -802,63  | -213,44  | -34,29   | -624,05   | -315,89   | -663,66   | 82,33     | -724,17   | -1642,4   | -380,56   | -380,91   | -1594,62  | -7294,29   | 3,93%   |\n",
    "| Pedreira               | 122,43   | 36,68    | -93,88   | -76,36    | -123,46   | -96,57    | -187,49   | -43,98    | -61,64    | -86,23    | -188,94   | -404,36   | -1203,8    | 0,65%   |\n",
    "| Santa Barbara D Oeste  | -145,19  | 131,66   | -376,2   | -223,71   | 3,83      | -457,13   | -725,05   | -848,49   | -515,76   | -836,48   | -1005,85  | -2665,14  | -7663,51   | 4,13%   |\n",
    "| Santo Antonio de Posse | -179,6   | -179,65  | -310,26  | -337,93   | -136,13   | -116,76   | 14,42     | -126,19   | -459,08   | -59,94    | -37,46    | -185,19   | -2113,77   | 1,14%   |\n",
    "| Sumare                 | -54,67   | -321,97  | -1226,32 | -2520,18  | -1261,66  | -934,31   | -2358,19  | -252,22   | -1287,6   | -925,78   | -3825,48  | -3333,49  | -18301,87  | 9,85%   |\n",
    "| Valinhos               | -10,83   | -465,63  | -335,22  | -1771,28  | -132,87   | -830,91   | -261,3    | -206,46   | -1483,3   | -734,02   | 511,35    | -2295,33  | -8015,8    | 4,32%   |\n",
    "| Vinhedo                | -56,44   | 99,05    | -33      | -749,41   | -333,81   | -2326,51  | 11,15     | -528,8    | -255,27   | -979,29   | -975,75   | -2243,52  | -8371,6    | 4,51%   |\n",
    "| Total Resultado        | -3316,82 | -5205,26 | -5488,42 | -17046,77 | -12620,84 | -19846,71 | -15023,08 | -10945,42 | -16667,76 | -18274,81 | -16239,93 | -45041,71 | -185717,53 | 100,00% |"
   ]
  },
  {
   "cell_type": "markdown",
   "metadata": {
    "slideshow": {
     "slide_type": "slide"
    }
   },
   "source": [
    "Disto podemos deduzir que, diante da redução da oferta de novas vagas, as pessoas tem aceitado empregos por salários menores de admissão (neste ponto, a elasticidade do mercado de trabalho de Campinas é maior que a da RMC como um todo), assim como, da mesma forma, a queda das demissões a pedido indica que as pessoas tem priorizado a manutenção de sua colocação atual, diante do aumento da incerteza quanto a uma recolocação em melhores condições de trabalho em geral ou de salário em particular.\n",
    "\n",
    "Se revisitarmos a conjuntura em torno de março/abril deste ano, quando ocorre um claro ponto de inflexão negativa no mercado de trabalho em geral, e Campinas em particular, evidencia-se no cenário nacional, o agravamento da crise política, por um lado, e a explicitação da crise fiscal do Estado, por outro, esta decorrente em grande medida das desonerações tributárias ocorridas no período anterior, que não tiveram adequada contrapartida ou compensação, seja por uma concomitante revisão da política tributária, seja pelo aumento (ou manutenção) do nível de investimento, principalmente por parte dos setores que foram os seus principais beneficiários.\n",
    "\n",
    "No cenário internacional, também fica evidente, nesta mesma época, que o crescimento econômico da China deverá se reduzir de forma persistente, seja em função de pontos de estrangulamento internos que se evidenciaram em decorrência do intenso crescimento econômico do período anterior, seja em função, também, de uma estratégia econômica deliberada do governo daquele país, no sentido de rebalancear as prioridades de sua política econômica, até então fundamentalmente voltada para o desenvolvimento do setor exportador, para ampliar e consolidar, também, o mercado interno de consumo.\n",
    "\n",
    "A economia brasileira, portanto, se mantém em compasso de espera, que se expressa, para Campinas e região, na manutenção de um volume de rescisões relativamente estável (levemente ascendente) e um volume acentuadamente decrescente de abertura de novas vagas. Não há, deste ponto de vista, ainda, uma significativa desmobilização produtiva, mas é nítido o impacto no mercado de trabalho da redução do volume de investimentos. Para além do cenário internacional, especialmente, no que diz respeito a uma avaliação mais clara do impacto efetivo da chamada 'crise' chinesa sobre a saúde da economia brasileira, se não houver reversão, nem do quadro político, com a recuperação de alguma estabilidade política, e nem do quadro fiscal, com a recuperação de alguma capacidade de investimento do Estado, a economia deverá, aí sim, entrar em processo mais claramente recessivo, o que se expressaria, em termos de mercado de trabalho, também por um aumento significativo do volume médio de rescisões, além de uma queda ainda mais acentuada da oferta de novas vagas."
   ]
  },
  {
   "cell_type": "markdown",
   "metadata": {
    "collapsed": true,
    "slideshow": {
     "slide_type": "slide"
    }
   },
   "source": [
    "### Desligados e Admitidos por Setor e por Ocupação – Campinas"
   ]
  },
  {
   "cell_type": "markdown",
   "metadata": {
    "slideshow": {
     "slide_type": "fragment"
    }
   },
   "source": [
    "Segue abaixo os saldos (admitidos – desligados) por Ocupação, tomando-se os 15 maiores e os 15 menores, assim como os saldos por setor econômico (CNAE 2.0 Subclasse), neste caso, tomando-se os 10 setores com os maiores saldos e os 10 setores com os menores saldos. A identificação dos maiores e menores saldos permite localizar os setores e ocupações que se encontram em expansão ou retração.\n",
    "\n",
    "Entre os maiores saldos por ocupação chama a atenção as áreas ligadas ao desenvolvimento de software, engenharia de computação e telecomunicações como sendo as únicas ocupações de maior qualificação, situadas entre os maiores saldos de emprego, o qual é confirmado pelo desempenho do setor de “Desenvolvimento de programas de computador sob encomenda'.\n",
    "Entre os destaques negativos encontram-se as áreas ligadas ao transporte coletivo de passageiros e transporte de cargas, assim como a construção civil, seja na área de infraestrutura de transportes, seja na área de construção de edifícios. Destaque também para o saldo negativo na ocupação de 'Alimentador de linha de produção'."
   ]
  },
  {
   "cell_type": "markdown",
   "metadata": {
    "slideshow": {
     "slide_type": "slide"
    }
   },
   "source": [
    "<img src=\"http://localhost:8888/files/Boletim_Fev16.Ipynb/Grafico6_SaldosPorOcupacao_15Mais.jpg\"/>"
   ]
  },
  {
   "cell_type": "markdown",
   "metadata": {
    "slideshow": {
     "slide_type": "slide"
    }
   },
   "source": [
    "<img src=\"http://localhost:8888/files/Boletim_Fev16.Ipynb/Grafico6_SaldosPorOcupacao_15Menos.jpg\"\\>"
   ]
  },
  {
   "cell_type": "markdown",
   "metadata": {
    "slideshow": {
     "slide_type": "slide"
    }
   },
   "source": [
    "<img src=\"http://localhost:8888/files/Boletim_Fev16.Ipynb/Grafico8_SaldosPorSetor_10Mais.jpg\"/>"
   ]
  },
  {
   "cell_type": "markdown",
   "metadata": {
    "slideshow": {
     "slide_type": "slide"
    }
   },
   "source": [
    "<img src=\"http://localhost:8888/files/Boletim_Fev16.Ipynb/Grafico7_SaldosPorSetor_10Menos.jpg\"/>"
   ]
  },
  {
   "cell_type": "markdown",
   "metadata": {
    "slideshow": {
     "slide_type": "slide"
    }
   },
   "source": [
    "Segue abaixo as ocupações e setores que lideram, em termos absolutos, respectivamente o volume de admissões e de desligamentos. As ocupações e setores que lideram em termos absolutos o volume de movimentação concentram-se na área de prestação de serviços e comércio varejista."
   ]
  },
  {
   "cell_type": "markdown",
   "metadata": {
    "slideshow": {
     "slide_type": "slide"
    }
   },
   "source": [
    "<img src=\"http://localhost:8888/files/Boletim_Fev16.Ipynb/Grafico2_AdmitidosPorOcupacao_15Mais.jpg\"\\>"
   ]
  },
  {
   "cell_type": "markdown",
   "metadata": {
    "slideshow": {
     "slide_type": "slide"
    }
   },
   "source": [
    "<img src=\"http://localhost:8888/files/Boletim_Fev16.Ipynb/Grafico4_DesligadosPorOcupacao_15Mais.jpg\"/>"
   ]
  },
  {
   "cell_type": "markdown",
   "metadata": {
    "slideshow": {
     "slide_type": "slide"
    }
   },
   "source": [
    "<img src=\"http://localhost:8888/files/Boletim_Fev16.Ipynb/Grafico3_AdmitidosPorSetor_10Mais.jpg\"/>"
   ]
  },
  {
   "cell_type": "markdown",
   "metadata": {
    "slideshow": {
     "slide_type": "slide"
    }
   },
   "source": [
    "<img src=\"http://localhost:8888/files/Boletim_Fev16.Ipynb/Grafico5_DesligadosPorSetor_11Mais.jpg\"/>"
   ]
  },
  {
   "cell_type": "markdown",
   "metadata": {
    "slideshow": {
     "slide_type": "slide"
    }
   },
   "source": [
    "### Salário Médio de Admissão por Ocupação e Setor (CNAE 2.0 Subclasse) – Campinas – 4º Trimestre/2015"
   ]
  },
  {
   "cell_type": "markdown",
   "metadata": {
    "slideshow": {
     "slide_type": "fragment"
    }
   },
   "source": [
    "A média salarial do conjunto de admissões realizadas em Campinas no último trimestre de 2015 concentrou-se  na faixa entre 1 e 2 salários mínimos, com 90.659 admissões, que representaram cerca de 71% do total. A faixa salarial seguinte, entre 2 e 5 salários mínimos, somou 31.415 admissões, que representaram cerca de 25% do total.  Ou seja, 96% das admissões mantiveram-se na faixa a salarial até  5 salários mínimos."
   ]
  },
  {
   "cell_type": "markdown",
   "metadata": {
    "slideshow": {
     "slide_type": "slide"
    }
   },
   "source": [
    "<img src=\"http://localhost:8888/files/Boletim_Fev16.Ipynb/Grafico9_SalMedio_Admissao_Qtde.jpg\"/>"
   ]
  },
  {
   "cell_type": "markdown",
   "metadata": {
    "slideshow": {
     "slide_type": "slide"
    }
   },
   "source": [
    "<img src=\"http://localhost:8888/files/Boletim_Fev16.Ipynb/Grafico10_SalMedio_Admissao_%25.jpg\"/>"
   ]
  },
  {
   "cell_type": "markdown",
   "metadata": {
    "slideshow": {
     "slide_type": "slide"
    }
   },
   "source": [
    "Segue abaixo a média salarial das 30 principais ocupações e os 30 principais setores (CNAE 2.0 Subclasse), referentes ao 4º trimestre de 2015, em termos de número de admissões, listadas em ordem alfabética."
   ]
  },
  {
   "cell_type": "markdown",
   "metadata": {
    "slideshow": {
     "slide_type": "slide"
    }
   },
   "source": [
    "_**Por Ocupação**_"
   ]
  },
  {
   "cell_type": "markdown",
   "metadata": {
    "slideshow": {
     "slide_type": "fragment"
    }
   },
   "source": [
    "| NomeOcupacao                                                       | Salário Médio | JornSem | JornMes | R$/Hora | SM/Hora | Nº SM | Admitidos |\n",
    "|--------------------------------------------------------------------|--------------:|--------:|--------:|--------:|--------:|------:|----------:|\n",
    "| Ajudante de motorista                                              | 1.141,49      | 43,91   | 219,56  | 5,20    | 3,58    | 1,45  | 225       |\n",
    "| Alimentador de linha de produção                                   | 1.345,73      | 43,36   | 216,81  | 6,21    | 3,58    | 1,73  | 367       |\n",
    "| Almoxarife                                                         | 1.303,73      | 43,61   | 218,03  | 5,98    | 3,58    | 1,67  | 443       |\n",
    "| Assistente administrativo                                          | 1.595,23      | 42,51   | 212,56  | 7,50    | 3,58    | 2,10  | 804       |\n",
    "| Assistente de vendas                                               | 1.332,12      | 43,83   | 219,15  | 6,08    | 3,58    | 1,70  | 248       |\n",
    "| Atendente de lanchonete                                            | 1.068,54      | 42,15   | 210,76  | 5,07    | 3,58    | 1,42  | 1048      |\n",
    "| Atendente de lojas e mercados                                      | 1.197,01      | 43,86   | 219,31  | 5,46    | 3,58    | 1,52  | 333       |\n",
    "| Auxiliar de escritório                                             | 1.112,80      | 38,29   | 191,45  | 5,81    | 3,58    | 1,62  | 1533      |\n",
    "| Auxiliar nos serviços de alimentação                               | 1.104,41      | 43,86   | 219,32  | 5,04    | 3,58    | 1,41  | 676       |\n",
    "| Cozinheiro geral                                                   | 1.232,82      | 43,56   | 217,78  | 5,66    | 3,58    | 1,58  | 689       |\n",
    "| Embalador                                                          | 1.062,19      | 43,59   | 217,93  | 4,87    | 3,58    | 1,36  | 246       |\n",
    "| Faxineiro                                                          | 979,08        | 42,87   | 214,35  | 4,57    | 3,58    | 1,28  | 2903      |\n",
    "| Frentista                                                          | 1.081,94      | 44,00   | 220,00  | 4,92    | 3,58    | 1,37  | 236       |\n",
    "| Garçom                                                             | 1.120,77      | 43,63   | 218,17  | 5,14    | 3,58    | 1,43  | 278       |\n",
    "| Motorista de caminhão (rotas regionais e internacionais)           | 1.609,80      | 43,99   | 219,94  | 7,32    | 3,58    | 2,04  | 325       |\n",
    "| Operador de caixa                                                  | 1.204,03      | 43,61   | 218,06  | 5,52    | 3,58    | 1,54  | 1130      |\n",
    "| Operador de telemarketing ativo                                    | 847,93        | 35,71   | 178,55  | 4,75    | 3,58    | 1,33  | 1047      |\n",
    "| Operador de telemarketing ativo e receptivo                        | 849,89        | 36,04   | 180,20  | 4,72    | 3,58    | 1,32  | 605       |\n",
    "| Operador de telemarketing técnico                                  | 800,09        | 36,11   | 180,56  | 4,43    | 3,58    | 1,24  | 215       |\n",
    "| Pedreiro                                                           | 1.553,59      | 43,98   | 219,89  | 7,07    | 3,58    | 1,97  | 354       |\n",
    "| Porteiro de edifícios                                              | 1.156,67      | 43,25   | 216,27  | 5,35    | 3,58    | 1,49  | 579       |\n",
    "| Recepcionista                                                      | 1.182,88      | 42,25   | 211,26  | 5,60    | 3,58    | 1,56  | 469       |\n",
    "| Repositor de mercadorias                                           | 1.144,91      | 43,22   | 216,11  | 5,30    | 3,58    | 1,48  | 840       |\n",
    "| Servente de obras                                                  | 1.236,22      | 43,96   | 219,80  | 5,62    | 3,58    | 1,57  | 671       |\n",
    "| Técnico de enfermagem                                              | 1.892,94      | 36,42   | 182,09  | 10,40   | 3,58    | 2,90  | 316       |\n",
    "| Trabalhador da manutenção de edificações                           | 1.062,65      | 43,81   | 219,04  | 4,85    | 3,58    | 1,35  | 250       |\n",
    "| Trabalhador de serviços de limpeza e conservação de áreas públicas | 1.112,92      | 43,07   | 215,37  | 5,17    | 3,58    | 1,44  | 380       |\n",
    "| Vendedor de comércio varejista                                     | 1.571,61      | 42,90   | 214,51  | 7,33    | 3,58    | 2,05  | 3166      |\n",
    "| Vendedor em comércio atacadista                                    | 1.264,30      | 43,85   | 219,27  | 5,77    | 3,58    | 1,61  | 300       |\n",
    "| Vigilante                                                          | 1.245,58      | 43,87   | 219,35  | 5,68    | 3,58    | 1,59  | 600       |"
   ]
  },
  {
   "cell_type": "markdown",
   "metadata": {
    "slideshow": {
     "slide_type": "slide"
    }
   },
   "source": [
    "_**Por Setor**_"
   ]
  },
  {
   "cell_type": "markdown",
   "metadata": {
    "slideshow": {
     "slide_type": "fragment"
    }
   },
   "source": [
    "| CNAE_20_SubClasse                                                                                                              | Salário Médio | JornSem | JornMes | R$/Hora | SM/Hora | Nº SM | Admitidos |\n",
    "|--------------------------------------------------------------------------------------------------------------------------------|--------------:|--------:|--------:|--------:|--------:|------:|----------:|\n",
    "| Limpeza em prédios e em domicílios                                                                                             | 985,03        | 42,95   | 214,74  | 4,59    | 3,58    | 1,28  | 2107      |\n",
    "| Atividades de teleatendimento                                                                                                  | 851,98        | 36,23   | 181,17  | 4,70    | 3,58    | 1,31  | 1840      |\n",
    "| Comércio varejista de artigos do vestuário e acessórios                                                                        | 1.254,93      | 42,96   | 214,78  | 5,84    | 3,58    | 1,63  | 1612      |\n",
    "| Comércio varejista de mercadorias em geral                                                                                     | 1.235,44      | 43,53   | 217,63  | 5,68    | 3,58    | 1,58  | 1412      |\n",
    "| Fornecimento de alimentos preparados preponderantemente para empresas                                                          | 1.427,38      | 43,29   | 216,43  | 6,60    | 3,58    | 1,84  | 1295      |\n",
    "| Restaurantes e similares                                                                                                       | 1.155,37      | 43,45   | 217,25  | 5,32    | 3,58    | 1,48  | 1176      |\n",
    "| Lanchonetes                                                                                                                    | 1.092,72      | 42,07   | 210,37  | 5,19    | 3,58    | 1,45  | 914       |\n",
    "| Locação de mão-de-obra temporária                                                                                              | 1.263,16      | 43,64   | 218,21  | 5,79    | 3,58    | 1,62  | 879       |\n",
    "| Construção de edifícios                                                                                                        | 1.722,31      | 43,91   | 219,53  | 7,85    | 3,58    | 2,19  | 642       |\n",
    "| Serviços de assistência social sem alojamento                                                                                  | 1.037,94      | 33,18   | 165,88  | 6,26    | 3,58    | 1,75  | 602       |\n",
    "| Transporte rodoviário de carga                                                                                                 | 1.401,34      | 43,86   | 219,32  | 6,39    | 3,58    | 1,78  | 562       |\n",
    "| Atividades de atendimento hospitalar                                                                                           | 1.997,87      | 35,88   | 179,40  | 11,14   | 3,58    | 3,11  | 542       |\n",
    "| Atividades de vigilância e segurança privada                                                                                   | 1.311,10      | 43,88   | 219,39  | 5,98    | 3,58    | 1,67  | 542       |\n",
    "| Comércio varejista de calçados                                                                                                 | 3.245,18      | 42,50   | 212,49  | 15,27   | 3,58    | 4,26  | 513       |\n",
    "| Serviços combinados para apoio a edifícios                                                                                     | 1.082,68      | 43,52   | 217,62  | 4,97    | 3,58    | 1,39  | 442       |\n",
    "| Comércio varejista de outros produtos não especificados anteriormente                                                          | 1.313,10      | 43,63   | 218,14  | 6,02    | 3,58    | 1,68  | 315       |\n",
    "| Comércio atacadista de frutas                                                                                                  | 1.226,18      | 43,61   | 218,05  | 5,62    | 3,58    | 1,57  | 312       |\n",
    "| Comércio varejista de produtos farmacêuticos                                                                                   | 1.611,47      | 43,77   | 218,85  | 7,36    | 3,58    | 2,06  | 305       |\n",
    "| Comércio varejista de cosméticos                                                                                               | 1.340,42      | 43,37   | 216,86  | 6,18    | 3,58    | 1,73  | 285       |\n",
    "| Serviços combinados de escritório e apoio administrativo                                                                       | 2.178,50      | 42,80   | 213,99  | 10,18   | 3,58    | 2,84  | 276       |\n",
    "| Padaria e confeitaria com predominância de revenda                                                                             | 1.262,16      | 43,94   | 219,70  | 5,74    | 3,58    | 1,60  | 268       |\n",
    "| Estacionamento de veículos                                                                                                     | 1.252,92      | 43,04   | 215,19  | 5,82    | 3,58    | 1,63  | 264       |\n",
    "| Transporte rodoviário coletivo de passageiros                                                                                  | 1.650,72      | 43,97   | 219,85  | 7,51    | 3,58    | 2,10  | 258       |\n",
    "| Comércio varejista de combustíveis para veículos automotores                                                                   | 1.086,04      | 44,00   | 220,00  | 4,94    | 3,58    | 1,38  | 253       |\n",
    "| Obras de alvenaria                                                                                                             | 1.442,31      | 44,00   | 220,00  | 6,56    | 3,58    | 1,83  | 248       |\n",
    "| Comércio a varejo de automóveis                                                                                                | 1.477,87      | 41,87   | 209,33  | 7,06    | 3,58    | 1,97  | 240       |\n",
    "| Atividades de monitoramento de sistemas de segurança                                                                           | 1.268,33      | 42,89   | 214,45  | 5,91    | 3,58    | 1,65  | 236       |\n",
    "| Condomínios prediais                                                                                                           | 1.329,05      | 43,49   | 217,47  | 6,11    | 3,58    | 1,71  | 225       |\n",
    "| Comércio varejista de brinquedos e artigos recreativos                                                                         | 1.274,39      | 43,83   | 219,16  | 5,82    | 3,58    | 1,62  | 213       |\n",
    "| Comércio varejista de produtos alimentícios em geral ou especializado em produtos alimentícios não especificados anteriormente | 1.267,27      | 43,31   | 216,54  | 5,85    | 3,58    | 1,63  | 211       |"
   ]
  },
  {
   "cell_type": "markdown",
   "metadata": {
    "slideshow": {
     "slide_type": "slide"
    }
   },
   "source": [
    "### Perfil das Admissões – Campinas – 2015 – Grau de Instrução"
   ]
  },
  {
   "cell_type": "markdown",
   "metadata": {
    "slideshow": {
     "slide_type": "fragment"
    }
   },
   "source": [
    "Segue abaixo o demonstrativo do perfil de admissões em Campinas ao longo de 2015 por grau de instrução. Chama atenção o fato de que ter completado o ensino médio parece ser um diferencial bastante importante para a admissão propriamente dita posto que responde por 59% do total das admissões. Entretanto, esta situação de escolaridade não afeta favoravelmente o salário médio considerando-se que esta média não difere da média salarial dos trabalhadores admitidos com menor grau de instrução.\n",
    "\n",
    "Naturalmente a média salarial das admissões de nível superior é a mais elevada, destacando-se também aqueles trabalhadores que tem o nível superior incompleto que apresentam diferença significativa em termos de média salarial com os trabalhadores que apenas completaram o nível médio."
   ]
  },
  {
   "cell_type": "markdown",
   "metadata": {
    "slideshow": {
     "slide_type": "slide"
    }
   },
   "source": [
    "<img src=\"http://localhost:8888/files/Boletim_Fev16.Ipynb/Grafico12_Admissao_pEscolaridade_%25.jpg\"/>"
   ]
  },
  {
   "cell_type": "markdown",
   "metadata": {
    "slideshow": {
     "slide_type": "slide"
    }
   },
   "source": [
    "<img src=\"http://localhost:8888/files/Boletim_Fev16.Ipynb/Grafico11_SalMedio_Escolaridade_R%24.jpg\"/>"
   ]
  },
  {
   "cell_type": "markdown",
   "metadata": {
    "slideshow": {
     "slide_type": "slide"
    }
   },
   "source": [
    "### Perfil das Admissões por Gênero – Campinas - 2015"
   ]
  },
  {
   "cell_type": "markdown",
   "metadata": {
    "slideshow": {
     "slide_type": "fragment"
    }
   },
   "source": [
    "Segue abaixo o perfil das admissões por gênero em Campinas, ao longo de 2015. Chama atenção a relativa igualdade em termos de participação quantitativa no mercado de trabalho, embora o salário médio das mulheres seja menor em cerca de 22% que o salário pago aos homens."
   ]
  },
  {
   "cell_type": "markdown",
   "metadata": {
    "slideshow": {
     "slide_type": "slide"
    }
   },
   "source": [
    "<img src=\"http://localhost:8888/files/Boletim_Fev16.Ipynb/Grafico13_Genero_Admissoes_%25.jpg\"/>"
   ]
  },
  {
   "cell_type": "markdown",
   "metadata": {
    "slideshow": {
     "slide_type": "slide"
    }
   },
   "source": [
    "<img src=\"http://localhost:8888/files/Boletim_Fev16.Ipynb/Grafico14_Genero_Admissoes_SalMedio.jpg\"/>"
   ]
  },
  {
   "cell_type": "markdown",
   "metadata": {
    "slideshow": {
     "slide_type": "slide"
    }
   },
   "source": [
    "### Perfil das Admissões por Raça/Cor – Campinas – SP"
   ]
  },
  {
   "cell_type": "markdown",
   "metadata": {
    "slideshow": {
     "slide_type": "fragment"
    }
   },
   "source": [
    "Quanto ao critério de Raça/Cor, conforme apurado pelo CAGED, a população que se descreve como branca responde por 57% do total de admissões realizadas em Campinas, ao longo de 2015. Entretanto, os orientais respondem pela maior média salarial do município, o que talvez decorra de uma grande participação de empresas de capital oriental entre as empresas de tecnologia de ponta, que pagam as maiores médias salariais e que, por questões culturais, contratam preferencialmente entre os descendentes de orientais. Excluindo-se os orientais que respondem por apenas 0,28% do número de admissões, se compararmos a média salarial entre a população que se descreve como branca e a população que se descreve como negra ou parda, temos uma diferença média de cerca de 10%. Ou seja, a diferença de gênero, no geral, impacta as diferenças salariais de forma mais significativa que as diferenças de cor/raça."
   ]
  },
  {
   "cell_type": "markdown",
   "metadata": {
    "slideshow": {
     "slide_type": "slide"
    }
   },
   "source": [
    "<img src=\"http://localhost:8888/files/Boletim_Fev16.Ipynb/Grafico15_RacaCor_Admissoes_%25.jpg\"/>"
   ]
  },
  {
   "cell_type": "markdown",
   "metadata": {
    "slideshow": {
     "slide_type": "slide"
    }
   },
   "source": [
    "<img src=\"http://localhost:8888/files/Boletim_Fev16.Ipynb/Grafico16_RacaCor_Admissoes_SalMedio.jpg\"/>"
   ]
  },
  {
   "cell_type": "markdown",
   "metadata": {
    "slideshow": {
     "slide_type": "slide"
    }
   },
   "source": [
    "### Quadro-Resumo Cor/Raça, Escolaridade, Gênero, Salário Médio e Nº de Admissões – Campinas - 2015"
   ]
  },
  {
   "cell_type": "markdown",
   "metadata": {
    "slideshow": {
     "slide_type": "fragment"
    }
   },
   "source": [
    "Segue abaixo um quadro-resumo que apura o salário médio e o número de admissões por Cor/Raça, Escolaridade e Gênero, para Campinas, com base nos dados de 2015. Neste quadro evidencia-se que as maiores diferenças salariais decorrentes de diferenças de gênero ocorrem, paradoxalmente, entre os trabalhadores contratados de nível superior. Por outro lado, a mulher negra ou parda é a mais penalizada, do ponto de vista das diferenças salariais, ao acumularem tanto o recorte de gênero quanto o de cor/raça."
   ]
  },
  {
   "cell_type": "markdown",
   "metadata": {
    "slideshow": {
     "slide_type": "slide"
    }
   },
   "source": [
    "|                         |                         | Salário Médio |         | Soma - Qtde |       | Salário Médio | Total Soma - Qtde |\n",
    "|-------------------------|-------------------------|--------------:|--------:|------------:|------:|--------------:|------------------:|\n",
    "| RacaCor                 | GrauInstrucao           | Fem           | Masc    | Fem         | Masc  |               |                   |\n",
    "| Amarela                 | 5a Completo Fundamental | 950,33        |         | 3           |       | 950,33        | 3                 |\n",
    "|                         | 6a a 9a Fundamental     | 1200,70       | 1275,09 | 10          | 11    | 1237,9        | 21                |\n",
    "|                         | Analfabeto              |               | 1509,00 |             | 1     | 1509,00       | 1                 |\n",
    "|                         | Até 5a Incompleto       | 1000,00       | 1288,20 | 1           | 5     | 1144,10       | 6                 |\n",
    "|                         | Fundamental Completo    | 1220,38       | 1460,72 | 8           | 18    | 1340,55       | 26                |\n",
    "|                         | Médio Completo          | 1107,38       | 1339,87 | 136         | 128   | 1223,62       | 264               |\n",
    "|                         | Médio Incompleto        | 960,33        | 1222,32 | 9           | 25    | 1091,33       | 34                |\n",
    "|                         | Superior Completo       | 3365,45       | 4546,33 | 49          | 42    | 3955,89       | 91                |\n",
    "|                         | Superior Incompleto     | 1757,13       | 3633,05 | 16          | 19    | 2695,09       | 35                |\n",
    "| Amarela Resultado       |                         | 1445,21       | 2034,32 | 232         | 249   | 1739,77       | 481               |\n",
    "| Branca                  | 5a Completo Fundamental | 1024,83       | 1337,9  | 356         | 634   | 1181,37       | 990               |\n",
    "|                         | 6a a 9a Fundamental     | 1023,43       | 1306,88 | 960         | 1471  | 1165,15       | 2431              |\n",
    "|                         | Analfabeto              | 991,00        | 1248,33 | 37          | 63    | 1119,67       | 100               |\n",
    "|                         | Até 5a Incompleto       | 1013,67       | 1255,79 | 301         | 534   | 1134,73       | 835               |\n",
    "|                         | Fundamental Completo    | 1064,82       | 1327,97 | 3907        | 6034  | 1196,40       | 9941              |\n",
    "|                         | Médio Completo          | 1196,69       | 1393,23 | 29161       | 27784 | 1294,96       | 56945             |\n",
    "|                         | Médio Incompleto        | 988,31        | 1190,09 | 3410        | 4027  | 1089,20       | 7437              |\n",
    "|                         | Superior Completo       | 2459,39       | 3840,98 | 7894        | 6525  | 3150,19       | 14419             |\n",
    "|                         | Superior Incompleto     | 1451,19       | 1836,25 | 2611        | 2032  | 1643,72       | 4643              |\n",
    "| Branca Resultado        |                         | 1245,93       | 1637,49 | 48637       | 49104 | 1441,71       | 97741             |\n",
    "| Indígena                | 5a Completo Fundamental | 1113,00       | 1348,00 | 3           | 1     | 1230,50       | 4                 |\n",
    "|                         | 6a a 9a Fundamental     | 1036,00       | 1122,67 | 3           | 3     | 1079,33       | 6                 |\n",
    "|                         | Até 5a Incompleto       | 1015,83       | 980,00  | 6           | 1     | 997,92        | 7                 |\n",
    "|                         | Fundamental Completo    | 976,67        | 1595,00 | 6           | 3     | 1285,83       | 9                 |\n",
    "|                         | Médio Completo          | 1057,18       | 1179,61 | 33          | 33    | 1118,39       | 66                |\n",
    "|                         | Médio Incompleto        | 1350,50       | 1024,50 | 2           | 6     | 1187,50       | 8                 |\n",
    "|                         | Superior Completo       | 1511,50        | 2116,20 | 4           | 5     | 1813,85       | 9                 |\n",
    "|                         | Superior Incompleto     | 961,33        | 1884,00 | 3           | 2     | 1422,67       | 5                 |\n",
    "| Indígena Resultado      |                         | 1127,75       | 1406,25 | 60          | 54    | 1267,00       | 114               |\n",
    "| Não informado           | 5a Completo Fundamental | 1029,58       | 1097,10 | 60          | 159   | 1063,34       | 219               |\n",
    "|                         | 6a a 9a Fundamental     | 990,71        | 1348,61 | 198         | 170   | 1169,66       | 368               |\n",
    "|                         | Analfabeto              | 1024,87       | 1196,02 | 194         | 46    | 1110,45       | 240               |\n",
    "|                         | Até 5a Incompleto       | 1087,42       | 1290,85 | 57          | 130   | 1189,13       | 187               |\n",
    "|                         | Fundamental Completo    | 1034,54       | 1278,32 | 945         | 827   | 1156,43       | 1772              |\n",
    "|                         | Médio Completo          | 1119,84       | 1321,18 | 4028        | 4621  | 1220,51       | 8649              |\n",
    "|                         | Médio Incompleto        | 1027,04       | 1161,28 | 496         | 491   | 1094,16       | 987               |\n",
    "|                         | Superior Completo       | 2258,74       | 3152,25 | 798         | 748   | 2705,49       | 1546              |\n",
    "|                         | Superior Incompleto     | 1331,37       | 1627,48 | 320         | 231   | 1479,43       | 551               |\n",
    "| Não informado Resultado |                         | 1211,57       | 1497,01 | 7096        | 7423  | 1354,29       | 14519             |\n",
    "| Negra                   | 5a Completo Fundamental | 1018,61       | 1267,12 | 79          | 147   | 1142,86       | 226               |\n",
    "|                         | 6a a 9a Fundamental     | 995,53        | 1257,68 | 241         | 363   | 1126,61       | 604               |\n",
    "|                         | Analfabeto              | 978.00        | 1158,85 | 4           | 26    | 1068,42       | 30                |\n",
    "|                         | Até 5a Incompleto       | 989,10        | 1229,74 | 93          | 140   | 1109,42       | 233               |\n",
    "|                         | Fundamental Completo    | 1018,92       | 1312,74 | 565         | 850   | 1165,83       | 1415              |\n",
    "|                         | Médio Completo          | 1083,88       | 1316,05 | 3157        | 3730  | 1199,96       | 6887              |\n",
    "|                         | Médio Incompleto        | 948,92        | 1094,42 | 539         | 750   | 1021,67       | 1289              |\n",
    "|                         | Superior Completo       | 2038,91       | 2589,62 | 321         | 237   | 2314,27       | 558               |\n",
    "|                         | Superior Incompleto     | 1266,40       | 1718,8  | 179         | 142   | 1492,60       | 321               |\n",
    "| Negra Resultado         |                         | 1148,69       | 1438,34 | 5178        | 6385  | 1293,52       | 11563             |\n",
    "| Parda                   | 5a Completo Fundamental | 989,83        | 1240,34 | 486         | 400   | 1115,08       | 886               |\n",
    "|                         | 6a a 9a Fundamental     | 961,49        | 1169,64 | 1354        | 1189  | 1065,57       | 2543              |\n",
    "|                         | Analfabeto              | 939,10        | 1153,88 | 21          | 51    | 1046,49       | 72                |\n",
    "|                         | Até 5a Incompleto       | 959,54        | 1250,78 | 494         | 752   | 1105,16       | 1246              |\n",
    "|                         | Fundamental Completo    | 978,58        | 1208,55 | 2628        | 3064  | 1093,57       | 5692              |\n",
    "|                         | Médio Completo          | 1060,97       | 1260,29 | 14617       | 13502 | 1160,63       | 28119             |\n",
    "|                         | Médio Incompleto        | 913,14        | 1066,10 | 2426        | 2650  | 989,62        | 5076              |\n",
    "|                         | Superior Completo       | 2133,34       | 2783,89 | 1215        | 1002  | 2458,61       | 2217              |\n",
    "|                         | Superior Incompleto     | 1272,97       | 1505,55 | 644         | 472   | 1389,26       | 1116              |\n",
    "| Parda Resultado         |                         | 1134,33       | 1404,34 | 23885       | 23082 | 1269,33       | 46967             |\n",
    "| Total Resultado         |                         | 1216,31       | 1563,83 | 85088       | 86297 | 1390,07       | 171385            |"
   ]
  },
  {
   "cell_type": "markdown",
   "metadata": {
    "slideshow": {
     "slide_type": "slide"
    }
   },
   "source": [
    "### Perfil das Admissões por Idade – Campinas _ 2015"
   ]
  },
  {
   "cell_type": "markdown",
   "metadata": {
    "slideshow": {
     "slide_type": "fragment"
    }
   },
   "source": [
    "Cerca de 78% das admissões concentram-se na faixa etária entre 18 e 39 anos, com ênfase na faixa que vai de 25 a 39, caindo significativamente a participação no mercado de trabalho daqueles trabalhadores com mais de 40 anos, com apenas 19% do total das admissões em Campinas, ao longo de 2015. "
   ]
  },
  {
   "cell_type": "markdown",
   "metadata": {
    "slideshow": {
     "slide_type": "slide"
    }
   },
   "source": [
    "<img src=\"http://localhost:8888/files/Boletim_Fev16.Ipynb/Grafico17_FxEtaria_Admissoes_Qtde.jpg\"/>"
   ]
  },
  {
   "cell_type": "markdown",
   "metadata": {
    "slideshow": {
     "slide_type": "slide"
    }
   },
   "source": [
    "<img src=\"http://localhost:8888/files/Boletim_Fev16.Ipynb/Grafico18_FxEtaria_Admissoes_%25.jpg\"/>"
   ]
  },
  {
   "cell_type": "markdown",
   "metadata": {
    "slideshow": {
     "slide_type": "slide"
    }
   },
   "source": [
    "Segue abaixo a composição das admissões por idade nas 30 principais ocupações e 30 principais setores por número de admissões, em Campinas, durante o ano de 2015. As ocupações que se destacam na contratação de menores de 18 são Auxiliar de Escritório, Atendente de Lanchonete, Assistente Administrativo e Embalador. Entre os maiores de 40 anos, destacam-se Faxineiro, Cozinheiro Geral, Porteiro de Edifícios, Trabalhador de Limpeza e Conservação de Áreas Públicas, Motorista de Caminhão e Pedreiro."
   ]
  },
  {
   "cell_type": "markdown",
   "metadata": {
    "slideshow": {
     "slide_type": "slide"
    }
   },
   "source": [
    "_**Por Ocupação**_"
   ]
  },
  {
   "cell_type": "markdown",
   "metadata": {
    "slideshow": {
     "slide_type": "fragment"
    }
   },
   "source": [
    "| NomeOcupacao                                                       | Menos de 18 | Entre 18 e 24 | Entre 25 e 39 | 40 anos ou + | Total |\n",
    "|--------------------------------------------------------------------|------------:|--------------:|--------------:|-------------:|------:|\n",
    "| Vendedor de comércio varejista                                     | 3,69%       | 45,12%        | 40,08%        | 11,12%       | 12663 |\n",
    "| Faxineiro                                                          | 0,19%       | 15,61%        | 45,45%        | 38,75%       | 12456 |\n",
    "| Auxiliar de escritório                                             | 20,47%      | 39,85%        | 31,06%        | 8,62%        | 7900  |\n",
    "| Atendente de lanchonete                                            | 14,20%      | 49,52%        | 30,16%        | 6,12%        | 5640  |\n",
    "| Assistente administrativo                                          | 14,48%      | 31,30%        | 43,72%        | 10,51%       | 5291  |\n",
    "| Operador de telemarketing ativo                                    | 0,39%       | 65,76%        | 28,25%        | 5,60%        | 4889  |\n",
    "| Operador de caixa                                                  | 1,53%       | 49,02%        | 39,96%        | 9,48%        | 4767  |\n",
    "| Cozinheiro geral                                                   | 1,48%       | 18,12%        | 45,45%        | 34,95%       | 4189  |\n",
    "| Auxiliar nos serviços de alimentação                               | 1,09%       | 23,30%        | 48,68%        | 26,93%       | 3944  |\n",
    "| Repositor de mercadorias                                           | 7,96%       | 49,07%        | 36,19%        | 6,78%        | 3642  |\n",
    "| Servente de obras                                                  | 0,28%       | 35,01%        | 46,34%        | 18,37%       | 3630  |\n",
    "| Operador de telemarketing ativo e receptivo                        | 2,28%       | 53,93%        | 35,59%        | 8,20%        | 3462  |\n",
    "| Vigilante                                                          | 0,03%       | 10,73%        | 63,04%        | 26,20%       | 3198  |\n",
    "| Porteiro de edifícios                                              | 0,10%       | 16,22%        | 45,77%        | 37,91%       | 2978  |\n",
    "| Alimentador de linha de produção                                   | 1,23%       | 44,54%        | 45,15%        | 9,09%        | 2937  |\n",
    "| Recepcionista                                                      | 3,46%       | 44,28%        | 41,23%        | 11,03%       | 2656  |\n",
    "| Almoxarife                                                         | 4,15%       | 44,57%        | 42,05%        | 9,23%        | 2264  |\n",
    "| Trabalhador de serviços de limpeza e conservação de áreas públicas | 0,95%       | 17,26%        | 42,59%        | 39,21%       | 2219  |\n",
    "| Trabalhador da manutenção de edificações                           | 0,50%       | 19,43%        | 48,32%        | 31,76%       | 2018  |\n",
    "| Motorista de caminhão (rotas regionais e internacionais)           | 0,05%       | 4,12%         | 48,59%        | 47,23%       | 1844  |\n",
    "| Pedreiro                                                           | 0,00%       | 10,01%        | 50,42%        | 39,57%       | 1779  |\n",
    "| Técnico de enfermagem                                              | 0,00%       | 14,84%        | 66,12%        | 19,04%       | 1765  |\n",
    "| Garçom                                                             | 1,94%       | 42,15%        | 46,96%        | 8,95%        | 1497  |\n",
    "| Ajudante de motorista                                              | 0,73%       | 39,17%        | 47,82%        | 12,28%       | 1376  |\n",
    "| Promotor de vendas                                                 | 1,52%       | 27,37%        | 58,83%        | 12,28%       | 1319  |\n",
    "| Operador de telemarketing técnico                                  | 0,08%       | 49,54%        | 40,19%        | 10,19%       | 1187  |\n",
    "| Vendedor em comércio atacadista                                    | 1,18%       | 36,46%        | 48,27%        | 14,09%       | 1185  |\n",
    "| Assistente de vendas                                               | 5,20%       | 38,35%        | 47,49%        | 8,96%        | 1116  |\n",
    "| Frentista                                                          | 0,00%       | 24,73%        | 55,23%        | 20,04%       | 1108  |\n",
    "| Embalador                                                          | 24,73%      | 42,13%        | 24,83%        | 8,31%        | 1023  |"
   ]
  },
  {
   "cell_type": "markdown",
   "metadata": {
    "slideshow": {
     "slide_type": "slide"
    }
   },
   "source": [
    "Os setores que se destacam na contratação de menores de 18 anos são os Serviços de Assistência Social sem Alojamento e Lanchonetes. Os que se destacam pela contratação de maiores de 40 anos são três setores afins: Limpeza em Prédios e em Domicílios, Serviços Combinados para Apoio à Edifícios e Condomínios Prediais. Além destes, o setor de Fornecimento de Alimentos Preparados Preponderantemente para as Empresas e o Transporte Rodoviário Coletivo de Passageiros."
   ]
  },
  {
   "cell_type": "markdown",
   "metadata": {
    "slideshow": {
     "slide_type": "slide"
    }
   },
   "source": [
    "_**Por Setor**_"
   ]
  },
  {
   "cell_type": "markdown",
   "metadata": {
    "slideshow": {
     "slide_type": "fragment"
    }
   },
   "source": [
    "| CNAE_20_SubClasse                                                                       | Menos de 18 | Entre 18 e 24 | Entre 25 e 39 | 40 anos ou + | Total |\n",
    "|-----------------------------------------------------------------------------------------|------------:|--------------:|--------------:|-------------:|------:|\n",
    "| Limpeza em prédios e em domicílios                                                      | 0,15%       | 17,39%        | 46,81%        | 35,66%       | 10870 |\n",
    "| Atividades de teleatendimento                                                           | 0,98%       | 58,78%        | 32,98%        | 7,26%        | 9430  |\n",
    "| Comércio varejista de mercadorias em geral                                              | 7,83%       | 37,47%        | 39,14%        | 15,56%       | 6645  |\n",
    "| Fornecimento de alimentos preparados preponderantemente para empresas                   | 0,64%       | 16,92%        | 48,15%        | 34,30%       | 6438  |\n",
    "| Restaurantes e similares                                                                | 3,22%       | 40,33%        | 43,71%        | 12,75%       | 6214  |\n",
    "| Comércio varejista de artigos do vestuário e acessórios                                 | 4,91%       | 54,46%        | 33,61%        | 7,02%        | 5597  |\n",
    "| Lanchonetes                                                                             | 14,47%      | 44,52%        | 32,17%        | 8,84%        | 4728  |\n",
    "| Construção de edifícios                                                                 | 0,43%       | 22,26%        | 48,58%        | 28,73%       | 3936  |\n",
    "| Locação de mão-de-obra temporária                                                       | 0,59%       | 34,76%        | 49,57%        | 15,09%       | 3579  |\n",
    "| Serviços de assistência social sem alojamento                                           | 48,24%      | 22,29%        | 20,56%        | 8,90%        | 3190  |\n",
    "| Transporte rodoviário de carga                                                          | 0,93%       | 21,66%        | 49,57%        | 27,84%       | 3024  |\n",
    "| Atividades de vigilância e segurança privada                                            | 0,00%       | 10,13%        | 62,23%        | 27,64%       | 2674  |\n",
    "| Atividades de atendimento hospitalar                                                    | 0,54%       | 19,71%        | 63,70%        | 16,04%       | 2587  |\n",
    "| Serviços combinados para apoio a edifícios                                              | 0,04%       | 16,51%        | 47,14%        | 36,31%       | 2393  |\n",
    "| Transporte rodoviário coletivo de passageiros                                           | 0,11%       | 9,48%         | 48,95%        | 41,46%       | 1804  |\n",
    "| Comércio varejista de calçados                                                          | 4,68%       | 58,55%        | 32,04%        | 4,73%        | 1732  |\n",
    "| Comércio varejista de outros produtos não especificados anteriormente                   | 2,61%       | 32,69%        | 48,03%        | 16,68%       | 1649  |\n",
    "| Padaria e confeitaria com predominância de revenda                                      | 6,42%       | 36,32%        | 42,74%        | 14,52%       | 1605  |\n",
    "| Serviços combinados de escritório e apoio administrativo                                | 2,65%       | 28,22%        | 50,07%        | 19,06%       | 1474  |\n",
    "| Comércio atacadista de frutas                                                           | 3,60%       | 43,82%        | 41,55%        | 11,02%       | 1415  |\n",
    "| Organização logística do transporte de carga                                            | 0,72%       | 34,80%        | 51,83%        | 12,65%       | 1391  |\n",
    "| Comércio varejista de produtos farmacêuticos                                            | 3,32%       | 46,61%        | 39,45%        | 10,62%       | 1356  |\n",
    "| Condomínios prediais                                                                    | 1,11%       | 13,92%        | 40,11%        | 44,86%       | 1264  |\n",
    "| Comércio varejista de cosméticos                                                        | 1,46%       | 43,45%        | 41,50%        | 13,59%       | 1229  |\n",
    "| Comércio varejista de combustíveis para veículos automotores                            | 0,00%       | 24,38%        | 55,04%        | 20,58%       | 1210  |\n",
    "| Comércio a varejo de automóveis                                                         | 4,18%       | 26,99%        | 45,26%        | 23,57%       | 1171  |\n",
    "| Estacionamento de veículos                                                              | 0,60%       | 27,48%        | 53,06%        | 18,86%       | 1161  |\n",
    "| Comércio varejista de produtos alimentícios em geral ou especializado não especificados | 2,95%       | 35,27%        | 48,48%        | 13,29%       | 1151  |\n",
    "| Educação superior - graduação e pós-graduação                                           | 6,32%       | 17,38%        | 50,22%        | 26,08%       | 1139  |\n",
    "| Comércio a varejo de peças e acessórios novos para veículos automotores                 | 2,82%       | 30,63%        | 49,87%        | 16,68%       | 1133  |\n"
   ]
  },
  {
   "cell_type": "markdown",
   "metadata": {
    "slideshow": {
     "slide_type": "slide"
    }
   },
   "source": [
    "### Contratação de Pessoas com Deficiência – Campinas – 2015"
   ]
  },
  {
   "cell_type": "markdown",
   "metadata": {
    "slideshow": {
     "slide_type": "fragment"
    }
   },
   "source": [
    "Desde 24 de julho 1991 vigora a Lei 8.213/91 que estabelece percentuais de contratação de pessoas com deficiência, de acordo com o tamanho da empresa em termos de número de funcionários. Mais recentemente o Ministério Público do Trabalho tem se empenhado com afinco no sentido de exigir das empresas e instituições o cumprimento estrito desta lei.\n",
    "\n",
    "Em 2015 foram contratadas 1.034 pessoas com deficiência de um total de 171.385 trabalhadores admitidos, o que representa apenas 0,6% do total. Segue abaixo o perfil, por tipo, das pessoas com deficiência que foram admitidas em Campinas neste último ano. Aquelas com algum tipo de deficiência física representam mais da metade dos ingressos."
   ]
  },
  {
   "cell_type": "markdown",
   "metadata": {
    "slideshow": {
     "slide_type": "slide"
    }
   },
   "source": [
    "<img src=\"http://localhost:8888/files/Boletim_Fev16.Ipynb/Grafico19_Deficiencia__Admissoes_pTipo_Qtde.jpg\"/>"
   ]
  },
  {
   "cell_type": "markdown",
   "metadata": {
    "slideshow": {
     "slide_type": "slide"
    }
   },
   "source": [
    "<img src=\"http://localhost:8888/files/Boletim_Fev16.Ipynb/Grafico20_Deficiencia__Admissoes_pTipo_%25.jpg\"/>"
   ]
  },
  {
   "cell_type": "markdown",
   "metadata": {
    "slideshow": {
     "slide_type": "slide"
    }
   },
   "source": [
    "Segue abaixo a identificação das 22 ocupações e setores que mais contrataram pessoas com deficiência, em Campinas, ao longo de 2015."
   ]
  },
  {
   "cell_type": "markdown",
   "metadata": {
    "slideshow": {
     "slide_type": "slide"
    }
   },
   "source": [
    "_**Admissões de Pessoas com Deficiência – Campinas – 2015 – Ocupações que mais contrataram.**_"
   ]
  },
  {
   "cell_type": "markdown",
   "metadata": {
    "slideshow": {
     "slide_type": "fragment"
    }
   },
   "source": [
    "| NomeOcupacao                                                       | Auditiva | Física | Mental | Múltipla | Reabilitação | Visual | Total | %      |\n",
    "|--------------------------------------------------------------------|---------:|-------:|-------:|---------:|-------------:|-------:|------:|-------:|\n",
    "| Auxiliar de escritório                                             | 35       | 121    | 15     | 3        | 4            | 16     | 194   | 18,76% |\n",
    "| Faxineiro                                                          | 15       | 18     | 24     |          |              | 5      | 62    | 6,00%  |\n",
    "| Assistente administrativo                                          | 5        | 35     | 5      |          | 2            | 7      | 54    | 5,22%  |\n",
    "| Vendedor de comércio varejista                                     | 5        | 24     | 5      | 1        |              | 6      | 41    | 3,97%  |\n",
    "| Almoxarife                                                         | 10       | 15     | 6      |          |              | 7      | 38    | 3,68%  |\n",
    "| Recepcionista                                                      |          | 26     |        | 1        | 3            | 8      | 38    | 3,68%  |\n",
    "| Operador de máquinas-ferramenta convencionais                      | 20       | 7      | 2      |          |              | 5      | 34    | 3,29%  |\n",
    "| Repositor de mercadorias                                           | 8        | 17     | 6      |          |              | 1      | 32    | 3,09%  |\n",
    "| Embalador                                                          | 3        | 7      | 18     |          |              | 1      | 29    | 2,80%  |\n",
    "| Porteiro de edifícios                                              | 2        | 21     |        |          | 3            | 3      | 29    | 2,80%  |\n",
    "| Operador de caixa                                                  | 1        | 24     |        | 2        |              | 1      | 28    | 2,71%  |\n",
    "| Trabalhador de serviços de limpeza e conservação de áreas públicas | 3        | 11     | 5      |          |              | 3      | 22    | 2,13%  |\n",
    "| Operador de telemarketing ativo                                    | 2        | 10     | 4      |          |              | 4      | 20    | 1,93%  |\n",
    "| Despachante documentalista                                         |          |        | 16     |          |              |        | 16    | 1,55%  |\n",
    "| Armazenista                                                        | 3        | 7      | 3      | 1        |              | 1      | 15    | 1,45%  |\n",
    "| Operador de telemarketing receptivo                                |          | 15     |        |          |              |        | 15    | 1,45%  |\n",
    "| Alimentador de linha de produção                                   | 2        | 11     | 1      |          |              |        | 14    | 1,35%  |\n",
    "| Assistente de vendas                                               | 2        | 5      | 2      | 2        |              | 1      | 12    | 1,16%  |\n",
    "| Cozinheiro geral                                                   | 1        | 7      | 2      |          |              | 2      | 12    | 1,16%  |\n",
    "| Inspetor de alunos de escola privada                               | 1        | 6      | 1      |          | 1            | 3      | 12    | 1,16%  |\n",
    "| Engenheiro de equipamentos em computação                           | 2        | 3      |        |          |              | 6      | 11    | 1,06%  |\n",
    "| Ajudante de motorista                                              | 5        | 3      |        |          | 2            |        | 10    | 0,97%  |"
   ]
  },
  {
   "cell_type": "markdown",
   "metadata": {
    "slideshow": {
     "slide_type": "slide"
    }
   },
   "source": [
    "_**Admissões de Pessoas com Deficiência – Campinas – 2015 – Setores que mais contrataram.**_"
   ]
  },
  {
   "cell_type": "markdown",
   "metadata": {
    "slideshow": {
     "slide_type": "fragment"
    }
   },
   "source": [
    "| CNAE_20_SubClasse                                                                    | Auditiva | Física | Mental | Múltipla | Reabilitação | Visual | Total | %      |\n",
    "|--------------------------------------------------------------------------------------|---------:|-------:|-------:|---------:|-------------:|-------:|------:|-------:|\n",
    "| Transporte rodoviário de carga                                                       | 5        | 125    |        |          |              | 1      | 131   | 12,67% |\n",
    "| Atividades de atendimento hospitalar                                                 | 43       | 15     |        |          | 10           | 7      | 75    | 7,25%  |\n",
    "| Limpeza em prédios e em domicílios                                                   | 15       | 44     | 1      |          |              | 7      | 67    | 6,48%  |\n",
    "| Atividades de teleatendimento                                                        | 4        | 20     | 6      |          |              | 23     | 53    | 5,13%  |\n",
    "| Fabricação de peças e acessórios para o sistema motor de veículos automotores        | 21       | 22     | 2      |          |              | 5      | 50    | 4,84%  |\n",
    "| Comércio atacadista de frutas                                                        | 11       | 18     | 18     |          |              | 1      | 48    | 4,64%  |\n",
    "| Comércio varejista de artigos do vestuário e acessórios                              | 12       | 28     | 5      |          |              |        | 45    | 4,35%  |\n",
    "| Comércio varejista de mercadorias em geral                                           | 2        | 34     |        | 1        |              | 1      | 38    | 3,68%  |\n",
    "| Educação superior - graduação e pós-graduação                                        | 6        | 3      | 25     |          |              | 1      | 35    | 3,38%  |\n",
    "| Pesquisa e desenvolvimento experimental em ciências físicas e naturais               |          | 35     |        |          |              |        | 35    | 3,38%  |\n",
    "| Desenvolvimento de programas de computador sob encomenda                             | 3        | 11     |        |          |              | 15     | 29    | 2,80%  |\n",
    "| Comércio atacadista de livros                                                        |          | 27     |        |          |              |        | 27    | 2,61%  |\n",
    "| Distribuição de energia elétrica                                                     | 2        | 16     |        |          | 2            | 1      | 21    | 2,03%  |\n",
    "| Atividades de associações de defesa de direitos sociais                              | 7        | 7      |        |          |              | 4      | 18    | 1,74%  |\n",
    "| Comércio varejista especializado de eletrodomésticos e equipamentos de áudio e vídeo |          | 3      | 15     |          |              |        | 18    | 1,74%  |\n",
    "| Comércio por atacado de peças e acessórios novos para veículos automotores           | 10       |        |        |          |              | 7      | 17    | 1,64%  |\n",
    "| Construção de estações e redes de telecomunicações                                   |          |        | 16     |          |              | 1      | 17    | 1,64%  |\n",
    "| Comércio atacadista de artigos de escritório e de papelaria                          |          |        |        |          |              | 16     | 16    | 1,55%  |\n",
    "| Fornecimento de alimentos preparados preponderantemente para empresas                | 1        | 7      | 4      |          | 1            | 2      | 15    | 1,45%  |\n",
    "| Comércio varejista de calçados                                                       | 3        | 7      | 3      |          |              | 1      | 14    | 1,35%  |\n",
    "| Hotéis                                                                               |          | 11     | 3      |          |              |        | 14    | 1,35%  |\n",
    "| Fabricação de embalagens de material plástico                                        |          | 12     |        |          |              | 1      | 13    | 1,26%  |\n"
   ]
  }
 ],
 "metadata": {
  "celltoolbar": "Slideshow",
  "kernelspec": {
   "display_name": "Python 3",
   "language": "python",
   "name": "python3"
  },
  "language_info": {
   "codemirror_mode": {
    "name": "ipython",
    "version": 3
   },
   "file_extension": ".py",
   "mimetype": "text/x-python",
   "name": "python",
   "nbconvert_exporter": "python",
   "pygments_lexer": "ipython3",
   "version": "3.4.3+"
  },
  "latex_envs": {
   "bibliofile": "biblio.bib",
   "cite_by": "number",
   "current_citInitial": 1,
   "eqLabelWithNumbers": true,
   "eqNumInitial": 0
  },
  "toc": {
   "toc_cell": false,
   "toc_number_sections": false,
   "toc_section_display": "block",
   "toc_threshold": 4,
   "toc_window_display": false
  },
  "toc_position": {
   "left": "895px",
   "right": "106px",
   "top": "51px",
   "width": "300px"
  }
 },
 "nbformat": 4,
 "nbformat_minor": 0
}
